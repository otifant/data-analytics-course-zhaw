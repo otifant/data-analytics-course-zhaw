{
 "cells": [
  {
   "cell_type": "code",
   "execution_count": 1,
   "metadata": {},
   "outputs": [],
   "source": [
    "import pandas as pd\n",
    "df = pd.read_excel('https://query.data.world/s/lcju74lhndiyqn3fpaxdeqyafcdi5h')"
   ]
  },
  {
   "cell_type": "code",
   "execution_count": 2,
   "metadata": {},
   "outputs": [
    {
     "data": {
      "text/html": [
       "<div>\n",
       "<style scoped>\n",
       "    .dataframe tbody tr th:only-of-type {\n",
       "        vertical-align: middle;\n",
       "    }\n",
       "\n",
       "    .dataframe tbody tr th {\n",
       "        vertical-align: top;\n",
       "    }\n",
       "\n",
       "    .dataframe thead th {\n",
       "        text-align: right;\n",
       "    }\n",
       "</style>\n",
       "<table border=\"1\" class=\"dataframe\">\n",
       "  <thead>\n",
       "    <tr style=\"text-align: right;\">\n",
       "      <th></th>\n",
       "      <th>Event Name</th>\n",
       "      <th>Swim time</th>\n",
       "      <th>Swim date</th>\n",
       "      <th>Event description</th>\n",
       "      <th>Team Code</th>\n",
       "      <th>Team Name</th>\n",
       "      <th>Athlete Full Name</th>\n",
       "      <th>Gender</th>\n",
       "      <th>Athlete birth date</th>\n",
       "      <th>Rank_Order</th>\n",
       "      <th>City</th>\n",
       "      <th>Country Code</th>\n",
       "      <th>Duration (hh:mm:ss:ff)</th>\n",
       "    </tr>\n",
       "  </thead>\n",
       "  <tbody>\n",
       "    <tr>\n",
       "      <th>0</th>\n",
       "      <td>European Championships 2022</td>\n",
       "      <td>46.86</td>\n",
       "      <td>2022-08-13</td>\n",
       "      <td>Men 100 Freestyle LCM Male</td>\n",
       "      <td>ROU</td>\n",
       "      <td>Romania</td>\n",
       "      <td>POPOVICI, David</td>\n",
       "      <td>M</td>\n",
       "      <td>2004-09-15</td>\n",
       "      <td>1</td>\n",
       "      <td>Rome</td>\n",
       "      <td>ITA</td>\n",
       "      <td>0:0:46:86</td>\n",
       "    </tr>\n",
       "    <tr>\n",
       "      <th>1</th>\n",
       "      <td>13th FINA World Championships 2009</td>\n",
       "      <td>46.91</td>\n",
       "      <td>2009-07-30</td>\n",
       "      <td>Men 100 Freestyle LCM Male</td>\n",
       "      <td>BRA</td>\n",
       "      <td>Brazil</td>\n",
       "      <td>CIELO FILHO, Cesar</td>\n",
       "      <td>M</td>\n",
       "      <td>1987-01-10</td>\n",
       "      <td>2</td>\n",
       "      <td>Rome</td>\n",
       "      <td>ITA</td>\n",
       "      <td>0:0:46:91</td>\n",
       "    </tr>\n",
       "    <tr>\n",
       "      <th>2</th>\n",
       "      <td>French National Championships (50m)</td>\n",
       "      <td>46.94</td>\n",
       "      <td>2009-04-23</td>\n",
       "      <td>Men 100 Freestyle LCM Male</td>\n",
       "      <td>FRA</td>\n",
       "      <td>France</td>\n",
       "      <td>BERNARD, Alain</td>\n",
       "      <td>M</td>\n",
       "      <td>1983-05-01</td>\n",
       "      <td>3</td>\n",
       "      <td>Montpellier</td>\n",
       "      <td>FRA</td>\n",
       "      <td>0:0:46:94</td>\n",
       "    </tr>\n",
       "    <tr>\n",
       "      <th>3</th>\n",
       "      <td>18th FINA World Championships 2019</td>\n",
       "      <td>46.96</td>\n",
       "      <td>2019-07-25</td>\n",
       "      <td>Men 100 Freestyle LCM Male</td>\n",
       "      <td>USA</td>\n",
       "      <td>United States of America</td>\n",
       "      <td>DRESSEL, Caeleb</td>\n",
       "      <td>M</td>\n",
       "      <td>1996-08-16</td>\n",
       "      <td>4</td>\n",
       "      <td>Gwangju</td>\n",
       "      <td>KOR</td>\n",
       "      <td>0:0:46:96</td>\n",
       "    </tr>\n",
       "    <tr>\n",
       "      <th>4</th>\n",
       "      <td>European Championships 2022</td>\n",
       "      <td>46.98</td>\n",
       "      <td>2022-08-12</td>\n",
       "      <td>Men 100 Freestyle LCM Male</td>\n",
       "      <td>ROU</td>\n",
       "      <td>Romania</td>\n",
       "      <td>POPOVICI, David</td>\n",
       "      <td>M</td>\n",
       "      <td>2004-09-15</td>\n",
       "      <td>5</td>\n",
       "      <td>Rome</td>\n",
       "      <td>ITA</td>\n",
       "      <td>0:0:46:98</td>\n",
       "    </tr>\n",
       "  </tbody>\n",
       "</table>\n",
       "</div>"
      ],
      "text/plain": [
       "                            Event Name Swim time  Swim date  \\\n",
       "0          European Championships 2022     46.86 2022-08-13   \n",
       "1   13th FINA World Championships 2009     46.91 2009-07-30   \n",
       "2  French National Championships (50m)     46.94 2009-04-23   \n",
       "3   18th FINA World Championships 2019     46.96 2019-07-25   \n",
       "4          European Championships 2022     46.98 2022-08-12   \n",
       "\n",
       "            Event description Team Code                 Team Name  \\\n",
       "0  Men 100 Freestyle LCM Male       ROU                   Romania   \n",
       "1  Men 100 Freestyle LCM Male       BRA                    Brazil   \n",
       "2  Men 100 Freestyle LCM Male       FRA                    France   \n",
       "3  Men 100 Freestyle LCM Male       USA  United States of America   \n",
       "4  Men 100 Freestyle LCM Male       ROU                   Romania   \n",
       "\n",
       "    Athlete Full Name Gender Athlete birth date  Rank_Order         City  \\\n",
       "0     POPOVICI, David      M         2004-09-15           1         Rome   \n",
       "1  CIELO FILHO, Cesar      M         1987-01-10           2         Rome   \n",
       "2      BERNARD, Alain      M         1983-05-01           3  Montpellier   \n",
       "3     DRESSEL, Caeleb      M         1996-08-16           4      Gwangju   \n",
       "4     POPOVICI, David      M         2004-09-15           5         Rome   \n",
       "\n",
       "  Country Code Duration (hh:mm:ss:ff)  \n",
       "0          ITA              0:0:46:86  \n",
       "1          ITA              0:0:46:91  \n",
       "2          FRA              0:0:46:94  \n",
       "3          KOR              0:0:46:96  \n",
       "4          ITA              0:0:46:98  "
      ]
     },
     "execution_count": 2,
     "metadata": {},
     "output_type": "execute_result"
    }
   ],
   "source": [
    "df.head()"
   ]
  },
  {
   "cell_type": "code",
   "execution_count": 3,
   "metadata": {},
   "outputs": [
    {
     "data": {
      "text/plain": [
       "(5200, 13)"
      ]
     },
     "execution_count": 3,
     "metadata": {},
     "output_type": "execute_result"
    }
   ],
   "source": [
    "df.shape"
   ]
  },
  {
   "cell_type": "code",
   "execution_count": null,
   "metadata": {},
   "outputs": [],
   "source": []
  }
 ],
 "metadata": {
  "kernelspec": {
   "display_name": "venv",
   "language": "python",
   "name": "python3"
  },
  "language_info": {
   "codemirror_mode": {
    "name": "ipython",
    "version": 3
   },
   "file_extension": ".py",
   "mimetype": "text/x-python",
   "name": "python",
   "nbconvert_exporter": "python",
   "pygments_lexer": "ipython3",
   "version": "3.11.2"
  },
  "orig_nbformat": 4,
  "vscode": {
   "interpreter": {
    "hash": "f2a18e7aa35240a52af99ab71370101fdc3f0f419f0b3683d6828ff1fe801d36"
   }
  }
 },
 "nbformat": 4,
 "nbformat_minor": 2
}
