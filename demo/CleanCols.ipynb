{
 "cells": [
  {
   "cell_type": "code",
   "execution_count": 3,
   "metadata": {},
   "outputs": [],
   "source": [
    "def CleanCols (df):\n",
    "\n",
    "    \"\"\"\n",
    "    Renames the columns of a DataFrame by removing spaces and using camel case.\n",
    "    Prints the DtataFrame vitals (shape, etc.)\n",
    "    Arguments:\n",
    "        df: a DataFrame        \n",
    "    Returns:\n",
    "        A DataFrame with clean columns\n",
    "    \"\"\"\n",
    "    \n",
    "    df.columns = df.columns.str.title()\n",
    "    df.columns = df.columns.str.replace(' ','')\n",
    "    print('Dataframe has ',df.shape[0],' rows and ',df.shape[1],' columns\\n')\n",
    "    \n",
    "    df_types_groups = df.columns.to_series().groupby(df.dtypes).apply(list).reset_index()\n",
    "    df_types_groups.columns=['data_type','fields']\n",
    "    df_types_groups\n",
    "    \n",
    "    df_types_groups.apply(pd.to_numeric, errors='coerce')\n",
    "    \n",
    "    for index, row in df_types_groups.iterrows():\n",
    "        sorted_cols = row.fields\n",
    "        sorted_cols.sort()\n",
    "        data_type  = row.data_type.__class__.__name__\n",
    "        printmd(\"**\"+data_type+\"**\")\n",
    "        print('   (',len(row.fields),' columns):\\n',sorted_cols,'\\n\\n')\n",
    "            \n",
    "    now = datetime.datetime.now()    \n",
    "    \n",
    "    print(now.strftime('\\nData loaded with clean columns on the %d, %b %Y at %H:%M:%S\\n'))\n",
    "    \n",
    "    return df"
   ]
  },
  {
   "cell_type": "code",
   "execution_count": null,
   "metadata": {},
   "outputs": [],
   "source": []
  }
 ],
 "metadata": {
  "kernelspec": {
   "display_name": "Python 3.11.0 ('venv')",
   "language": "python",
   "name": "python3"
  },
  "language_info": {
   "codemirror_mode": {
    "name": "ipython",
    "version": 3
   },
   "file_extension": ".py",
   "mimetype": "text/x-python",
   "name": "python",
   "nbconvert_exporter": "python",
   "pygments_lexer": "ipython3",
   "version": "3.11.2"
  },
  "orig_nbformat": 4,
  "vscode": {
   "interpreter": {
    "hash": "f2a18e7aa35240a52af99ab71370101fdc3f0f419f0b3683d6828ff1fe801d36"
   }
  }
 },
 "nbformat": 4,
 "nbformat_minor": 2
}
