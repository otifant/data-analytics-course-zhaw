{
 "cells": [
  {
   "cell_type": "code",
   "execution_count": 5,
   "metadata": {},
   "outputs": [],
   "source": [
    "# 1. import of numpy and pandas:\n",
    "import numpy as np\n",
    "import pandas as pd\n"
   ]
  },
  {
   "cell_type": "code",
   "execution_count": 58,
   "metadata": {},
   "outputs": [
    {
     "name": "stdout",
     "output_type": "stream",
     "text": [
      "The dataset contains 34923 rows.\n"
     ]
    },
    {
     "data": {
      "text/html": [
       "<div>\n",
       "<style scoped>\n",
       "    .dataframe tbody tr th:only-of-type {\n",
       "        vertical-align: middle;\n",
       "    }\n",
       "\n",
       "    .dataframe tbody tr th {\n",
       "        vertical-align: top;\n",
       "    }\n",
       "\n",
       "    .dataframe thead th {\n",
       "        text-align: right;\n",
       "    }\n",
       "</style>\n",
       "<table border=\"1\" class=\"dataframe\">\n",
       "  <thead>\n",
       "    <tr style=\"text-align: right;\">\n",
       "      <th></th>\n",
       "      <th>Beach Name</th>\n",
       "      <th>Measurement Timestamp</th>\n",
       "      <th>Water Temperature</th>\n",
       "      <th>Turbidity</th>\n",
       "      <th>Transducer Depth</th>\n",
       "      <th>Wave Height</th>\n",
       "      <th>Wave Period</th>\n",
       "      <th>Battery Life</th>\n",
       "      <th>Measurement Timestamp Label</th>\n",
       "      <th>Measurement ID</th>\n",
       "    </tr>\n",
       "  </thead>\n",
       "  <tbody>\n",
       "    <tr>\n",
       "      <th>0</th>\n",
       "      <td>Montrose Beach</td>\n",
       "      <td>08/30/2013 08:00:00 AM</td>\n",
       "      <td>20.3</td>\n",
       "      <td>1.18</td>\n",
       "      <td>0.891</td>\n",
       "      <td>0.080</td>\n",
       "      <td>3.0</td>\n",
       "      <td>9.4</td>\n",
       "      <td>8/30/2013 8:00 AM</td>\n",
       "      <td>MontroseBeach201308300800</td>\n",
       "    </tr>\n",
       "    <tr>\n",
       "      <th>1</th>\n",
       "      <td>Ohio Street Beach</td>\n",
       "      <td>05/26/2016 01:00:00 PM</td>\n",
       "      <td>14.4</td>\n",
       "      <td>1.23</td>\n",
       "      <td>NaN</td>\n",
       "      <td>0.111</td>\n",
       "      <td>4.0</td>\n",
       "      <td>12.4</td>\n",
       "      <td>05/26/2016 1:00 PM</td>\n",
       "      <td>OhioStreetBeach201605261300</td>\n",
       "    </tr>\n",
       "    <tr>\n",
       "      <th>2</th>\n",
       "      <td>Calumet Beach</td>\n",
       "      <td>09/03/2013 04:00:00 PM</td>\n",
       "      <td>23.2</td>\n",
       "      <td>3.63</td>\n",
       "      <td>1.201</td>\n",
       "      <td>0.174</td>\n",
       "      <td>6.0</td>\n",
       "      <td>9.4</td>\n",
       "      <td>9/3/2013 4:00 PM</td>\n",
       "      <td>CalumetBeach201309031600</td>\n",
       "    </tr>\n",
       "    <tr>\n",
       "      <th>3</th>\n",
       "      <td>Calumet Beach</td>\n",
       "      <td>05/28/2014 12:00:00 PM</td>\n",
       "      <td>16.2</td>\n",
       "      <td>1.26</td>\n",
       "      <td>1.514</td>\n",
       "      <td>0.147</td>\n",
       "      <td>4.0</td>\n",
       "      <td>11.7</td>\n",
       "      <td>5/28/2014 12:00 PM</td>\n",
       "      <td>CalumetBeach201405281200</td>\n",
       "    </tr>\n",
       "    <tr>\n",
       "      <th>4</th>\n",
       "      <td>Montrose Beach</td>\n",
       "      <td>05/28/2014 12:00:00 PM</td>\n",
       "      <td>14.4</td>\n",
       "      <td>3.36</td>\n",
       "      <td>1.388</td>\n",
       "      <td>0.298</td>\n",
       "      <td>4.0</td>\n",
       "      <td>11.9</td>\n",
       "      <td>5/28/2014 12:00 PM</td>\n",
       "      <td>MontroseBeach201405281200</td>\n",
       "    </tr>\n",
       "    <tr>\n",
       "      <th>...</th>\n",
       "      <td>...</td>\n",
       "      <td>...</td>\n",
       "      <td>...</td>\n",
       "      <td>...</td>\n",
       "      <td>...</td>\n",
       "      <td>...</td>\n",
       "      <td>...</td>\n",
       "      <td>...</td>\n",
       "      <td>...</td>\n",
       "      <td>...</td>\n",
       "    </tr>\n",
       "    <tr>\n",
       "      <th>34918</th>\n",
       "      <td>Ohio Street Beach</td>\n",
       "      <td>09/12/2017 12:00:00 PM</td>\n",
       "      <td>19.9</td>\n",
       "      <td>2.61</td>\n",
       "      <td>NaN</td>\n",
       "      <td>0.187</td>\n",
       "      <td>3.0</td>\n",
       "      <td>10.5</td>\n",
       "      <td>09/12/2017 12:00 PM</td>\n",
       "      <td>OhioStreetBeach201709121200</td>\n",
       "    </tr>\n",
       "    <tr>\n",
       "      <th>34919</th>\n",
       "      <td>Ohio Street Beach</td>\n",
       "      <td>09/12/2017 01:00:00 PM</td>\n",
       "      <td>19.8</td>\n",
       "      <td>0.00</td>\n",
       "      <td>NaN</td>\n",
       "      <td>0.187</td>\n",
       "      <td>3.0</td>\n",
       "      <td>10.5</td>\n",
       "      <td>09/12/2017 1:00 PM</td>\n",
       "      <td>OhioStreetBeach201709121300</td>\n",
       "    </tr>\n",
       "    <tr>\n",
       "      <th>34920</th>\n",
       "      <td>Ohio Street Beach</td>\n",
       "      <td>09/12/2017 03:00:00 PM</td>\n",
       "      <td>22.3</td>\n",
       "      <td>0.00</td>\n",
       "      <td>NaN</td>\n",
       "      <td>0.187</td>\n",
       "      <td>3.0</td>\n",
       "      <td>10.5</td>\n",
       "      <td>09/12/2017 3:00 PM</td>\n",
       "      <td>OhioStreetBeach201709121500</td>\n",
       "    </tr>\n",
       "    <tr>\n",
       "      <th>34921</th>\n",
       "      <td>Ohio Street Beach</td>\n",
       "      <td>09/12/2017 05:00:00 PM</td>\n",
       "      <td>21.1</td>\n",
       "      <td>26.97</td>\n",
       "      <td>NaN</td>\n",
       "      <td>0.187</td>\n",
       "      <td>3.0</td>\n",
       "      <td>9.4</td>\n",
       "      <td>09/12/2017 5:00 PM</td>\n",
       "      <td>OhioStreetBeach201709121700</td>\n",
       "    </tr>\n",
       "    <tr>\n",
       "      <th>34922</th>\n",
       "      <td>Ohio Street Beach</td>\n",
       "      <td>09/12/2017 06:00:00 PM</td>\n",
       "      <td>21.3</td>\n",
       "      <td>27.55</td>\n",
       "      <td>NaN</td>\n",
       "      <td>0.187</td>\n",
       "      <td>3.0</td>\n",
       "      <td>9.4</td>\n",
       "      <td>09/12/2017 6:00 PM</td>\n",
       "      <td>OhioStreetBeach201709121800</td>\n",
       "    </tr>\n",
       "  </tbody>\n",
       "</table>\n",
       "<p>34923 rows × 10 columns</p>\n",
       "</div>"
      ],
      "text/plain": [
       "              Beach Name   Measurement Timestamp  Water Temperature  \\\n",
       "0         Montrose Beach  08/30/2013 08:00:00 AM               20.3   \n",
       "1      Ohio Street Beach  05/26/2016 01:00:00 PM               14.4   \n",
       "2          Calumet Beach  09/03/2013 04:00:00 PM               23.2   \n",
       "3          Calumet Beach  05/28/2014 12:00:00 PM               16.2   \n",
       "4         Montrose Beach  05/28/2014 12:00:00 PM               14.4   \n",
       "...                  ...                     ...                ...   \n",
       "34918  Ohio Street Beach  09/12/2017 12:00:00 PM               19.9   \n",
       "34919  Ohio Street Beach  09/12/2017 01:00:00 PM               19.8   \n",
       "34920  Ohio Street Beach  09/12/2017 03:00:00 PM               22.3   \n",
       "34921  Ohio Street Beach  09/12/2017 05:00:00 PM               21.1   \n",
       "34922  Ohio Street Beach  09/12/2017 06:00:00 PM               21.3   \n",
       "\n",
       "       Turbidity  Transducer Depth  Wave Height  Wave Period  Battery Life  \\\n",
       "0           1.18             0.891        0.080          3.0           9.4   \n",
       "1           1.23               NaN        0.111          4.0          12.4   \n",
       "2           3.63             1.201        0.174          6.0           9.4   \n",
       "3           1.26             1.514        0.147          4.0          11.7   \n",
       "4           3.36             1.388        0.298          4.0          11.9   \n",
       "...          ...               ...          ...          ...           ...   \n",
       "34918       2.61               NaN        0.187          3.0          10.5   \n",
       "34919       0.00               NaN        0.187          3.0          10.5   \n",
       "34920       0.00               NaN        0.187          3.0          10.5   \n",
       "34921      26.97               NaN        0.187          3.0           9.4   \n",
       "34922      27.55               NaN        0.187          3.0           9.4   \n",
       "\n",
       "      Measurement Timestamp Label               Measurement ID  \n",
       "0               8/30/2013 8:00 AM    MontroseBeach201308300800  \n",
       "1              05/26/2016 1:00 PM  OhioStreetBeach201605261300  \n",
       "2                9/3/2013 4:00 PM     CalumetBeach201309031600  \n",
       "3              5/28/2014 12:00 PM     CalumetBeach201405281200  \n",
       "4              5/28/2014 12:00 PM    MontroseBeach201405281200  \n",
       "...                           ...                          ...  \n",
       "34918         09/12/2017 12:00 PM  OhioStreetBeach201709121200  \n",
       "34919          09/12/2017 1:00 PM  OhioStreetBeach201709121300  \n",
       "34920          09/12/2017 3:00 PM  OhioStreetBeach201709121500  \n",
       "34921          09/12/2017 5:00 PM  OhioStreetBeach201709121700  \n",
       "34922          09/12/2017 6:00 PM  OhioStreetBeach201709121800  \n",
       "\n",
       "[34923 rows x 10 columns]"
      ]
     },
     "execution_count": 58,
     "metadata": {},
     "output_type": "execute_result"
    }
   ],
   "source": [
    "# 2. Import the dataset from the CSV:\n",
    "df_beach = pd.read_csv(\n",
    "    '../data/nic-beach-water-quality-automated-sensors-1.csv')\n",
    "\n",
    "# 3. How many rows does the dataset contain?\n",
    "print('The dataset contains', len(df_beach), 'rows.')\n",
    "\n",
    "# The content of the dataset:\n",
    "df_beach\n"
   ]
  },
  {
   "cell_type": "code",
   "execution_count": 59,
   "metadata": {},
   "outputs": [
    {
     "data": {
      "text/html": [
       "<div>\n",
       "<style scoped>\n",
       "    .dataframe tbody tr th:only-of-type {\n",
       "        vertical-align: middle;\n",
       "    }\n",
       "\n",
       "    .dataframe tbody tr th {\n",
       "        vertical-align: top;\n",
       "    }\n",
       "\n",
       "    .dataframe thead th {\n",
       "        text-align: right;\n",
       "    }\n",
       "</style>\n",
       "<table border=\"1\" class=\"dataframe\">\n",
       "  <thead>\n",
       "    <tr style=\"text-align: right;\">\n",
       "      <th></th>\n",
       "      <th>Beach Name</th>\n",
       "      <th>Water Temperature</th>\n",
       "    </tr>\n",
       "  </thead>\n",
       "  <tbody>\n",
       "    <tr>\n",
       "      <th>29636</th>\n",
       "      <td>Calumet Beach</td>\n",
       "      <td>28.5</td>\n",
       "    </tr>\n",
       "    <tr>\n",
       "      <th>14025</th>\n",
       "      <td>Calumet Beach</td>\n",
       "      <td>29.0</td>\n",
       "    </tr>\n",
       "    <tr>\n",
       "      <th>14022</th>\n",
       "      <td>Calumet Beach</td>\n",
       "      <td>29.2</td>\n",
       "    </tr>\n",
       "    <tr>\n",
       "      <th>19321</th>\n",
       "      <td>Ohio Street Beach</td>\n",
       "      <td>29.6</td>\n",
       "    </tr>\n",
       "    <tr>\n",
       "      <th>19382</th>\n",
       "      <td>Ohio Street Beach</td>\n",
       "      <td>30.0</td>\n",
       "    </tr>\n",
       "    <tr>\n",
       "      <th>19324</th>\n",
       "      <td>Ohio Street Beach</td>\n",
       "      <td>30.0</td>\n",
       "    </tr>\n",
       "    <tr>\n",
       "      <th>19333</th>\n",
       "      <td>Ohio Street Beach</td>\n",
       "      <td>30.4</td>\n",
       "    </tr>\n",
       "    <tr>\n",
       "      <th>19327</th>\n",
       "      <td>Ohio Street Beach</td>\n",
       "      <td>31.2</td>\n",
       "    </tr>\n",
       "    <tr>\n",
       "      <th>19330</th>\n",
       "      <td>Ohio Street Beach</td>\n",
       "      <td>31.4</td>\n",
       "    </tr>\n",
       "    <tr>\n",
       "      <th>16945</th>\n",
       "      <td>Ohio Street Beach</td>\n",
       "      <td>31.5</td>\n",
       "    </tr>\n",
       "  </tbody>\n",
       "</table>\n",
       "</div>"
      ],
      "text/plain": [
       "              Beach Name  Water Temperature\n",
       "29636      Calumet Beach               28.5\n",
       "14025      Calumet Beach               29.0\n",
       "14022      Calumet Beach               29.2\n",
       "19321  Ohio Street Beach               29.6\n",
       "19382  Ohio Street Beach               30.0\n",
       "19324  Ohio Street Beach               30.0\n",
       "19333  Ohio Street Beach               30.4\n",
       "19327  Ohio Street Beach               31.2\n",
       "19330  Ohio Street Beach               31.4\n",
       "16945  Ohio Street Beach               31.5"
      ]
     },
     "execution_count": 59,
     "metadata": {},
     "output_type": "execute_result"
    }
   ],
   "source": [
    "# 4. The 10 highest water temperatures:\n",
    "column_name = 'Water Temperature'\n",
    "# would also work: df_beach[column_name].notnull().sort_values().tail(10)\n",
    "df_beach[(df_beach[column_name].notnull())].sort_values(\n",
    "    column_name, ascending=True).tail(10)[['Beach Name', column_name]]\n"
   ]
  },
  {
   "cell_type": "code",
   "execution_count": 60,
   "metadata": {},
   "outputs": [
    {
     "data": {
      "text/plain": [
       "18.64053384700055"
      ]
     },
     "execution_count": 60,
     "metadata": {},
     "output_type": "execute_result"
    }
   ],
   "source": [
    "# 5. Mean water temp in Montrose Beach\n",
    "df_beach[(df_beach['Beach Name'] == 'Montrose Beach')\n",
    "         ]['Water Temperature'].mean()\n"
   ]
  },
  {
   "cell_type": "code",
   "execution_count": 62,
   "metadata": {},
   "outputs": [
    {
     "name": "stdout",
     "output_type": "stream",
     "text": [
      "Beach names: ['Montrose Beach' 'Ohio Street Beach' 'Calumet Beach' '63rd Street Beach'\n",
      " 'Osterman Beach' 'Rainbow Beach']\n"
     ]
    }
   ],
   "source": [
    "# 6. The names of the beaches\n",
    "beach_names = df_beach['Beach Name'].unique()\n",
    "\n",
    "print(\"Beach names:\", beach_names)\n"
   ]
  },
  {
   "cell_type": "code",
   "execution_count": 75,
   "metadata": {},
   "outputs": [
    {
     "name": "stdout",
     "output_type": "stream",
     "text": [
      "After 2016, the water has been measured 78 times above 26°C.\n"
     ]
    },
    {
     "name": "stderr",
     "output_type": "stream",
     "text": [
      "C:\\Users\\Sam\\AppData\\Local\\Temp\\ipykernel_11416\\122977292.py:12: UserWarning: Boolean Series key will be reindexed to match DataFrame index.\n",
      "  above_min_temperature = df_beach[(df_beach[column_date].dt.year >= year)][(\n"
     ]
    }
   ],
   "source": [
    "# 7. After 2016: How many times was the water above 26°C\n",
    "year = 2016\n",
    "min_temperature = 26\n",
    "\n",
    "column_temperature = 'Water Temperature'\n",
    "column_date = 'Measurement Timestamp Label'\n",
    "\n",
    "# First convert the date string to a date object:\n",
    "df_beach[column_date] = pd.to_datetime(\n",
    "    df_beach[column_date], format='%m/%d/%Y %I:%M %p')\n",
    "\n",
    "above_min_temperature = df_beach[(df_beach[column_date].dt.year >= year)][(\n",
    "    df_beach[column_temperature] > min_temperature)]\n",
    "\n",
    "print(f'After {year}, the water has been '\n",
    "      f'measured {len(above_min_temperature)} times '\n",
    "      f'above {min_temperature}°C.')\n"
   ]
  },
  {
   "cell_type": "code",
   "execution_count": 78,
   "metadata": {},
   "outputs": [
    {
     "data": {
      "text/plain": [
       "count    10034.000000\n",
       "mean         1.570235\n",
       "std          0.175118\n",
       "min         -0.082000\n",
       "25%          1.426000\n",
       "50%          1.578000\n",
       "75%          1.721000\n",
       "max          2.214000\n",
       "Name: Transducer Depth, dtype: float64"
      ]
     },
     "execution_count": 78,
     "metadata": {},
     "output_type": "execute_result"
    }
   ],
   "source": [
    "# 8. transducer depth data\n",
    "column_depth = 'Transducer Depth'\n",
    "df_beach[df_beach[column_depth].notnull()][column_depth].describe()\n"
   ]
  },
  {
   "cell_type": "code",
   "execution_count": 84,
   "metadata": {},
   "outputs": [
    {
     "name": "stderr",
     "output_type": "stream",
     "text": [
      "C:\\Users\\Sam\\AppData\\Local\\Temp\\ipykernel_11416\\1527923993.py:3: UserWarning: Boolean Series key will be reindexed to match DataFrame index.\n",
      "  df_beach[\n"
     ]
    },
    {
     "data": {
      "text/plain": [
       "count    34164.000000\n",
       "mean         0.173457\n",
       "std          0.086944\n",
       "min          0.013000\n",
       "25%          0.112000\n",
       "50%          0.156000\n",
       "75%          0.202000\n",
       "max          1.467000\n",
       "Name: Wave Height, dtype: float64"
      ]
     },
     "execution_count": 84,
     "metadata": {},
     "output_type": "execute_result"
    }
   ],
   "source": [
    "# 9. wave height data\n",
    "column_wave_height = 'Wave Height'\n",
    "df_beach[\n",
    "    (df_beach[column_wave_height] > -100)][  # eliminate the unrealistic high and low values\n",
    "    (df_beach[column_wave_height] < 100)][  # \"\"\n",
    "    column_wave_height].describe()\n"
   ]
  }
 ],
 "metadata": {
  "kernelspec": {
   "display_name": "Python 3",
   "language": "python",
   "name": "python3"
  },
  "language_info": {
   "codemirror_mode": {
    "name": "ipython",
    "version": 3
   },
   "file_extension": ".py",
   "mimetype": "text/x-python",
   "name": "python",
   "nbconvert_exporter": "python",
   "pygments_lexer": "ipython3",
   "version": "3.9.13"
  },
  "orig_nbformat": 4
 },
 "nbformat": 4,
 "nbformat_minor": 2
}
